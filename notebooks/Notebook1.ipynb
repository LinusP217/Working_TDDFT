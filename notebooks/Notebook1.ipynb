{
  "nbformat": 4,
  "nbformat_minor": 0,
  "metadata": {
    "colab": {
      "provenance": [],
      "authorship_tag": "ABX9TyM6YvX2VLR2/IHv0iV0qti0",
      "include_colab_link": true
    },
    "kernelspec": {
      "name": "python3",
      "display_name": "Python 3"
    },
    "language_info": {
      "name": "python"
    }
  },
  "cells": [
    {
      "cell_type": "markdown",
      "metadata": {
        "id": "view-in-github",
        "colab_type": "text"
      },
      "source": [
        "<a href=\"https://colab.research.google.com/github/LinusP217/Working_TDDFT/blob/main/notebooks/Notebook1.ipynb\" target=\"_parent\"><img src=\"https://colab.research.google.com/assets/colab-badge.svg\" alt=\"Open In Colab\"/></a>"
      ]
    },
    {
      "cell_type": "code",
      "source": [
        "#@title Install/Import Packages\n",
        "\n",
        "# Nicely formatted install messages\n",
        "import traceback\n",
        "UCBOLD = \"\\33[1m\"\n",
        "UCEND = \"\\033[0m\"\n",
        "UCGREEN, UCRED = \"\\33[32m\", \"\\33[31m\"\n",
        "good_install = UCBOLD + \"Successfully installed\" + UCGREEN + \" ✓\" + UCEND\n",
        "fail_install = UCBOLD + \"Installation error\" + UCRED + \" ✗\" + UCEND + \":\\n\"\n",
        "\n",
        "try:\n",
        "  print(\"Installing dependencies ☕︎...\")\n",
        "  import numpy as np\n",
        "  import pandas as pd\n",
        "\n",
        "  # visualization\n",
        "  import matplotlib.pyplot as plt\n",
        "  %config InlineBackend.figure_format = 'svg'\n",
        "\n",
        "  # GUI tools\n",
        "  from IPython.display import Markdown, display, clear_output\n",
        "  from google.colab import output\n",
        "  output.enable_custom_widget_manager()\n",
        "  import ipywidgets as widgets\n",
        "  print(good_install)\n",
        "except Exception as e:\n",
        "  print(fail_install)\n",
        "  print(traceback.format_exc())"
      ],
      "metadata": {
        "cellView": "form",
        "colab": {
          "base_uri": "https://localhost:8080/"
        },
        "id": "Ch2x66mIlNTW",
        "outputId": "d4e8f211-8db9-4536-ae7a-c74474e1c437"
      },
      "execution_count": 1,
      "outputs": [
        {
          "output_type": "stream",
          "name": "stdout",
          "text": [
            "Installing dependencies ☕︎...\n",
            "\u001b[1mSuccessfully installed\u001b[32m ✓\u001b[0m\n"
          ]
        }
      ]
    },
    {
      "cell_type": "code",
      "execution_count": 2,
      "metadata": {
        "id": "JWEL2iE-KULb",
        "outputId": "8306be3d-0610-4b9b-daf3-1ef774ebb052",
        "colab": {
          "base_uri": "https://localhost:8080/"
        }
      },
      "outputs": [
        {
          "output_type": "stream",
          "name": "stdout",
          "text": [
            "Hello, World!\n"
          ]
        }
      ],
      "source": [
        "print(\"Hello, World!\")"
      ]
    },
    {
      "cell_type": "markdown",
      "source": [
        "## Ground State DFT"
      ],
      "metadata": {
        "id": "sWjzCR4BlO30"
      }
    },
    {
      "cell_type": "markdown",
      "source": [
        "## Electromagnetic Radiation"
      ],
      "metadata": {
        "id": "wcbw5IZVlSkj"
      }
    },
    {
      "cell_type": "markdown",
      "source": [
        "## Runge-Gross Theorem"
      ],
      "metadata": {
        "id": "0-dfEGcZlSQR"
      }
    },
    {
      "cell_type": "markdown",
      "source": [
        "## Limitations"
      ],
      "metadata": {
        "id": "lQBZYpFdlycZ"
      }
    }
  ]
}